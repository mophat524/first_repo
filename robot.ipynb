{
 "cells": [
  {
   "cell_type": "markdown",
   "id": "1a113e8d",
   "metadata": {},
   "source": [
    "### Git\n",
    "hello = \"hello\""
   ]
  },
  {
   "cell_type": "code",
   "execution_count": 7,
   "id": "7e44a527",
   "metadata": {},
   "outputs": [
    {
     "data": {
      "text/plain": [
       "\"\\nOur main agenda is to upload/push to Github\\n\\nSteps before pushing\\n- git is initialised\\n     git init\\n-Stage our changes\\n   git add <argument>\\n   eg git add robot.ipynb\\n\\n   #track all the file\\n   git add . \\n\\n-Taking the snashot with a label\\n   git commit -m 'First Commit'\\n\\n-Uploading to GitHub\\n   internet must be present\\n    git push origin  <name of your branch>\\n\\n\\ngit add remote origin <url>\\n\\n \\n\\n\""
      ]
     },
     "execution_count": 7,
     "metadata": {},
     "output_type": "execute_result"
    }
   ],
   "source": [
    "\"\"\"\n",
    "Our main agenda is to upload/push to Github\n",
    "\n",
    "Steps before pushing\n",
    "- git is initialised\n",
    "     git init\n",
    "-Stage our changes\n",
    "   git add <argument>\n",
    "   eg git add robot.ipynb\n",
    "\n",
    "   #track all the file\n",
    "   git add . \n",
    "\n",
    "-Taking the snashot with a label\n",
    "   git commit -m 'First Commit'\n",
    "\n",
    "-Uploading to GitHub\n",
    "   internet must be present\n",
    "    git push origin  <name of your branch>\n",
    "\n",
    "\n",
    "git add remote origin <url>\n",
    "\n",
    " \n",
    "\n",
    "\"\"\""
   ]
  },
  {
   "cell_type": "markdown",
   "id": "20b181bc",
   "metadata": {},
   "source": [
    "### Python File I/O\n",
    "Python's built in ways to opening/loading files. (Input and Output).\n",
    "\n",
    "**open()** is the dedicated function in python to load files\n",
    "\n",
    "...\n",
    "Syntax:\n",
    "\n",
    "open(filename, mode)\n",
    "```\n",
    "\n",
    "**Mode**\n",
    "* `r` ---> read only\n",
    "* 'W' ---> write only(If file exissts its overwritten else if not )\n",
    "* 'r+' ---> read and write\n",
    "* 'a' ----> append only(going to write new data at the end of the file without erasing existing)"
   ]
  },
  {
   "cell_type": "code",
   "execution_count": 8,
   "id": "98171190",
   "metadata": {},
   "outputs": [
    {
     "data": {
      "text/html": [
       "<div>\n",
       "<style scoped>\n",
       "    .dataframe tbody tr th:only-of-type {\n",
       "        vertical-align: middle;\n",
       "    }\n",
       "\n",
       "    .dataframe tbody tr th {\n",
       "        vertical-align: top;\n",
       "    }\n",
       "\n",
       "    .dataframe thead th {\n",
       "        text-align: right;\n",
       "    }\n",
       "</style>\n",
       "<table border=\"1\" class=\"dataframe\">\n",
       "  <thead>\n",
       "    <tr style=\"text-align: right;\">\n",
       "      <th></th>\n",
       "      <th>Amsterdam</th>\n",
       "      <th>Berlin</th>\n",
       "      <th>Copenhagen</th>\n",
       "      <th>Durban</th>\n",
       "      <th>Eldoret</th>\n",
       "    </tr>\n",
       "  </thead>\n",
       "  <tbody>\n",
       "    <tr>\n",
       "      <th>0</th>\n",
       "      <td>100</td>\n",
       "      <td>266</td>\n",
       "      <td>34</td>\n",
       "      <td>44</td>\n",
       "      <td>5267</td>\n",
       "    </tr>\n",
       "    <tr>\n",
       "      <th>1</th>\n",
       "      <td>122</td>\n",
       "      <td>256</td>\n",
       "      <td>3</td>\n",
       "      <td>44</td>\n",
       "      <td>578</td>\n",
       "    </tr>\n",
       "    <tr>\n",
       "      <th>2</th>\n",
       "      <td>131</td>\n",
       "      <td>234</td>\n",
       "      <td>36</td>\n",
       "      <td>47</td>\n",
       "      <td>52</td>\n",
       "    </tr>\n",
       "  </tbody>\n",
       "</table>\n",
       "</div>"
      ],
      "text/plain": [
       "   Amsterdam  Berlin  Copenhagen  Durban  Eldoret\n",
       "0        100     266          34      44     5267\n",
       "1        122     256           3      44      578\n",
       "2        131     234          36      47       52"
      ]
     },
     "execution_count": 8,
     "metadata": {},
     "output_type": "execute_result"
    }
   ],
   "source": [
    "#this is how we usually open our csv\n",
    "import pandas as pd\n",
    "\n",
    "pd.read_csv('./sample.csv').head()\n",
    "\n"
   ]
  },
  {
   "cell_type": "code",
   "execution_count": 9,
   "id": "b3ec3f3a",
   "metadata": {},
   "outputs": [
    {
     "data": {
      "text/html": [
       "<div>\n",
       "<style scoped>\n",
       "    .dataframe tbody tr th:only-of-type {\n",
       "        vertical-align: middle;\n",
       "    }\n",
       "\n",
       "    .dataframe tbody tr th {\n",
       "        vertical-align: top;\n",
       "    }\n",
       "\n",
       "    .dataframe thead th {\n",
       "        text-align: right;\n",
       "    }\n",
       "</style>\n",
       "<table border=\"1\" class=\"dataframe\">\n",
       "  <thead>\n",
       "    <tr style=\"text-align: right;\">\n",
       "      <th></th>\n",
       "      <th>Amsterdam</th>\n",
       "      <th>Berlin</th>\n",
       "      <th>Copenhagen</th>\n",
       "      <th>Durban</th>\n",
       "      <th>Eldoret</th>\n",
       "    </tr>\n",
       "  </thead>\n",
       "  <tbody>\n",
       "    <tr>\n",
       "      <th>0</th>\n",
       "      <td>100</td>\n",
       "      <td>266</td>\n",
       "      <td>34</td>\n",
       "      <td>44</td>\n",
       "      <td>5267</td>\n",
       "    </tr>\n",
       "    <tr>\n",
       "      <th>1</th>\n",
       "      <td>122</td>\n",
       "      <td>256</td>\n",
       "      <td>3</td>\n",
       "      <td>44</td>\n",
       "      <td>578</td>\n",
       "    </tr>\n",
       "    <tr>\n",
       "      <th>2</th>\n",
       "      <td>131</td>\n",
       "      <td>234</td>\n",
       "      <td>36</td>\n",
       "      <td>47</td>\n",
       "      <td>52</td>\n",
       "    </tr>\n",
       "  </tbody>\n",
       "</table>\n",
       "</div>"
      ],
      "text/plain": [
       "   Amsterdam  Berlin  Copenhagen  Durban  Eldoret\n",
       "0        100     266          34      44     5267\n",
       "1        122     256           3      44      578\n",
       "2        131     234          36      47       52"
      ]
     },
     "execution_count": 9,
     "metadata": {},
     "output_type": "execute_result"
    }
   ],
   "source": [
    "import pandas as pd\n",
    "\n",
    "pd.read_csv('./sample.csv').head()"
   ]
  },
  {
   "cell_type": "markdown",
   "id": "e84c2c40",
   "metadata": {},
   "source": [
    "## 'with'\n",
    "\n",
    "This automatically opens and closes the file when using the open() function."
   ]
  },
  {
   "cell_type": "code",
   "execution_count": 10,
   "id": "faf4ef9c",
   "metadata": {},
   "outputs": [
    {
     "name": "stdout",
     "output_type": "stream",
     "text": [
      "Amsterdam,Berlin,Copenhagen,Durban,Eldoret\n",
      "100,266,34,44,5267\n",
      "122,256,3,44,578\n",
      "131,234,36,47,52\n"
     ]
    }
   ],
   "source": [
    "with open ('sample.csv','r') as f:\n",
    "     print(f.read())"
   ]
  },
  {
   "cell_type": "code",
   "execution_count": 11,
   "id": "8a3ded11",
   "metadata": {},
   "outputs": [
    {
     "name": "stdout",
     "output_type": "stream",
     "text": [
      "100 266\n",
      "122 256\n",
      "131 234\n"
     ]
    }
   ],
   "source": [
    "import csv\n",
    "test = []\n",
    "with open ('sample.csv') as f:\n",
    "    reader = csv.DictReader(f)\n",
    "    #used \n",
    "    #print(next(reader))\n",
    "    \n",
    "    \n",
    "    #\n",
    "    for row in reader:\n",
    "        test.append(row)\n",
    "        print(row['Amsterdam'],row['Berlin'])\n",
    "        "
   ]
  },
  {
   "cell_type": "markdown",
   "id": "5c4b1b36",
   "metadata": {},
   "source": [
    "Create a new file and write to it"
   ]
  },
  {
   "cell_type": "code",
   "execution_count": 12,
   "id": "5046c24a",
   "metadata": {},
   "outputs": [],
   "source": [
    "with open('cities.txt','w') as f:\n",
    "    f.write('Dallas| Berlin |Copenhagen')"
   ]
  },
  {
   "cell_type": "code",
   "execution_count": 13,
   "id": "cda1a9df",
   "metadata": {},
   "outputs": [],
   "source": [
    "with open('cities.txt','w') as f:\n",
    "    f.write('Dallas| London |Cairo')"
   ]
  },
  {
   "cell_type": "code",
   "execution_count": 14,
   "id": "a2cd2798",
   "metadata": {},
   "outputs": [
    {
     "data": {
      "text/plain": [
       "[{'Amsterdam': '100',\n",
       "  'Berlin': '266',\n",
       "  'Copenhagen': '34',\n",
       "  'Durban': '44',\n",
       "  'Eldoret': '5267'},\n",
       " {'Amsterdam': '122',\n",
       "  'Berlin': '256',\n",
       "  'Copenhagen': '3',\n",
       "  'Durban': '44',\n",
       "  'Eldoret': '578'}]"
      ]
     },
     "execution_count": 14,
     "metadata": {},
     "output_type": "execute_result"
    }
   ],
   "source": [
    "test[0:2]"
   ]
  },
  {
   "cell_type": "markdown",
   "id": "e4a84861",
   "metadata": {},
   "source": [
    "### JSON\n",
    "\n",
    "JSON is Javascript Object Notation"
   ]
  },
  {
   "cell_type": "code",
   "execution_count": 29,
   "id": "7c4bf157",
   "metadata": {},
   "outputs": [
    {
     "data": {
      "text/plain": [
       "{'playlist_name': 'My_Jams',\n",
       " 'created_by': 'Chacha',\n",
       " 'tracks': [{'title': 'Stan',\n",
       "   'artist': 'Eminem',\n",
       "   'album': 'The Marshall Mathers LP',\n",
       "   'duration_sec': 405},\n",
       "  {'title': 'In Da Club',\n",
       "   'artist': '50 Cent',\n",
       "   'album': 'Get Rich or Die Tryin',\n",
       "   'duration_sec': 240},\n",
       "  {'title': 'Suzanna',\n",
       "   'artist': 'Sauti Sol',\n",
       "   'album': 'Midnight Train',\n",
       "   'duration_sec': 239},\n",
       "  {'title': 'Many Men',\n",
       "   'artist': '50 Cent',\n",
       "   'album': 'Get Rich or Die Tryin',\n",
       "   'duration_sec': 256},\n",
       "  {'title': 'Bad Liar',\n",
       "   'artist': 'Imagine Dragons',\n",
       "   'album': 'Origins',\n",
       "   'duration_sec': 243}]}"
      ]
     },
     "execution_count": 29,
     "metadata": {},
     "output_type": "execute_result"
    }
   ],
   "source": [
    "#use the library\n",
    "#this is the best for loading all json datatype\n",
    "import json\n",
    "#with open to load the json file\n",
    "with open('playlist.json','r') as f:\n",
    "          data = json.load(f)\n",
    "\n",
    "data['playlist_name']\n",
    "data          "
   ]
  },
  {
   "cell_type": "code",
   "execution_count": 30,
   "id": "2fdb527f",
   "metadata": {},
   "outputs": [
    {
     "data": {
      "text/plain": [
       "[{'title': 'Stan',\n",
       "  'artist': 'Eminem',\n",
       "  'album': 'The Marshall Mathers LP',\n",
       "  'duration_sec': 405},\n",
       " {'title': 'In Da Club',\n",
       "  'artist': '50 Cent',\n",
       "  'album': 'Get Rich or Die Tryin',\n",
       "  'duration_sec': 240},\n",
       " {'title': 'Suzanna',\n",
       "  'artist': 'Sauti Sol',\n",
       "  'album': 'Midnight Train',\n",
       "  'duration_sec': 239},\n",
       " {'title': 'Many Men',\n",
       "  'artist': '50 Cent',\n",
       "  'album': 'Get Rich or Die Tryin',\n",
       "  'duration_sec': 256},\n",
       " {'title': 'Bad Liar',\n",
       "  'artist': 'Imagine Dragons',\n",
       "  'album': 'Origins',\n",
       "  'duration_sec': 243}]"
      ]
     },
     "execution_count": 30,
     "metadata": {},
     "output_type": "execute_result"
    }
   ],
   "source": [
    "data['tracks']"
   ]
  },
  {
   "cell_type": "code",
   "execution_count": 31,
   "id": "679a9c07",
   "metadata": {},
   "outputs": [
    {
     "data": {
      "text/plain": [
       "{'playlist_name': 'My_Jams',\n",
       " 'created_by': 'Chacha',\n",
       " 'tracks': [{'title': 'Stan',\n",
       "   'artist': 'Eminem',\n",
       "   'album': 'The Marshall Mathers LP',\n",
       "   'duration_sec': 405},\n",
       "  {'title': 'In Da Club',\n",
       "   'artist': '50 Cent',\n",
       "   'album': 'Get Rich or Die Tryin',\n",
       "   'duration_sec': 240},\n",
       "  {'title': 'Suzanna',\n",
       "   'artist': 'Sauti Sol',\n",
       "   'album': 'Midnight Train',\n",
       "   'duration_sec': 239},\n",
       "  {'title': 'Many Men',\n",
       "   'artist': '50 Cent',\n",
       "   'album': 'Get Rich or Die Tryin',\n",
       "   'duration_sec': 256},\n",
       "  {'title': 'Bad Liar',\n",
       "   'artist': 'Imagine Dragons',\n",
       "   'album': 'Origins',\n",
       "   'duration_sec': 243}]}"
      ]
     },
     "execution_count": 31,
     "metadata": {},
     "output_type": "execute_result"
    }
   ],
   "source": [
    "#with open to load the jso file\n",
    "\n",
    "with open('playlist.json','r') as f:\n",
    "    data = json.load(f)\n",
    "    \n",
    "\n",
    "data   "
   ]
  },
  {
   "cell_type": "code",
   "execution_count": null,
   "id": "1bc10dfe",
   "metadata": {},
   "outputs": [
    {
     "data": {
      "text/plain": [
       "'{\\n  \"playlist_name\": \"My_Jams\",\\n  \"created_by\": \"Chacha\",\\n  \"tracks\": [\\n    {\\n      \"title\": \"Stan\",\\n      \"artist\": \"Eminem\",\\n      \"album\": \"The Marshall Mathers LP\",\\n      \"duration_sec\": 405\\n    },\\n    {\\n      \"title\": \"In Da Club\",\\n      \"artist\": \"50 Cent\",\\n      \"album\": \"Get Rich or Die Tryin\",\\n      \"duration_sec\": 240\\n    },\\n    {\\n      \"title\": \"Suzanna\",\\n      \"artist\": \"Sauti Sol\",\\n      \"album\": \"Midnight Train\",\\n      \"duration_sec\": 239\\n    },\\n    {\\n      \"title\": \"Many Men\",\\n      \"artist\": \"50 Cent\",\\n      \"album\": \"Get Rich or Die Tryin\",\\n      \"duration_sec\": 256\\n    },\\n    {\\n      \"title\": \"Bad Liar\",\\n      \"artist\": \"Imagine Dragons\",\\n      \"album\": \"Origins\",\\n      \"duration_sec\": 243\\n    }\\n  ]\\n}\\n'"
      ]
     },
     "execution_count": 32,
     "metadata": {},
     "output_type": "execute_result"
    }
   ],
   "source": [
    "#not recommended bcoz everything will become a string\n",
    "with open('playlist.json','r') as f:\n",
    "    #this will load data as a string\n",
    "    dt = f.read()\n",
    "dt    "
   ]
  },
  {
   "cell_type": "code",
   "execution_count": 35,
   "id": "8dde130a",
   "metadata": {},
   "outputs": [
    {
     "data": {
      "text/plain": [
       "str"
      ]
     },
     "execution_count": 35,
     "metadata": {},
     "output_type": "execute_result"
    }
   ],
   "source": [
    "type(dt)"
   ]
  },
  {
   "cell_type": "code",
   "execution_count": 36,
   "id": "c14ffdbd",
   "metadata": {},
   "outputs": [
    {
     "data": {
      "text/plain": [
       "dict"
      ]
     },
     "execution_count": 36,
     "metadata": {},
     "output_type": "execute_result"
    }
   ],
   "source": [
    "type(data)"
   ]
  },
  {
   "cell_type": "markdown",
   "id": "152a1d59",
   "metadata": {},
   "source": [
    "## Exploring JSON\n",
    "\n",
    "Now that we've loaded it lets check what is held withn it"
   ]
  },
  {
   "cell_type": "code",
   "execution_count": 37,
   "id": "864b2b90",
   "metadata": {},
   "outputs": [
    {
     "data": {
      "text/plain": [
       "dict_items([('playlist_name', 'My_Jams'), ('created_by', 'Chacha'), ('tracks', [{'title': 'Stan', 'artist': 'Eminem', 'album': 'The Marshall Mathers LP', 'duration_sec': 405}, {'title': 'In Da Club', 'artist': '50 Cent', 'album': 'Get Rich or Die Tryin', 'duration_sec': 240}, {'title': 'Suzanna', 'artist': 'Sauti Sol', 'album': 'Midnight Train', 'duration_sec': 239}, {'title': 'Many Men', 'artist': '50 Cent', 'album': 'Get Rich or Die Tryin', 'duration_sec': 256}, {'title': 'Bad Liar', 'artist': 'Imagine Dragons', 'album': 'Origins', 'duration_sec': 243}])])"
      ]
     },
     "execution_count": 37,
     "metadata": {},
     "output_type": "execute_result"
    }
   ],
   "source": [
    "data.items()"
   ]
  },
  {
   "cell_type": "code",
   "execution_count": 38,
   "id": "f490d054",
   "metadata": {},
   "outputs": [
    {
     "data": {
      "text/plain": [
       "dict_values(['My_Jams', 'Chacha', [{'title': 'Stan', 'artist': 'Eminem', 'album': 'The Marshall Mathers LP', 'duration_sec': 405}, {'title': 'In Da Club', 'artist': '50 Cent', 'album': 'Get Rich or Die Tryin', 'duration_sec': 240}, {'title': 'Suzanna', 'artist': 'Sauti Sol', 'album': 'Midnight Train', 'duration_sec': 239}, {'title': 'Many Men', 'artist': '50 Cent', 'album': 'Get Rich or Die Tryin', 'duration_sec': 256}, {'title': 'Bad Liar', 'artist': 'Imagine Dragons', 'album': 'Origins', 'duration_sec': 243}]])"
      ]
     },
     "execution_count": 38,
     "metadata": {},
     "output_type": "execute_result"
    }
   ],
   "source": [
    "data.values()"
   ]
  },
  {
   "cell_type": "code",
   "execution_count": 44,
   "id": "a4a0c765",
   "metadata": {},
   "outputs": [
    {
     "data": {
      "text/plain": [
       "'Suzanna'"
      ]
     },
     "execution_count": 44,
     "metadata": {},
     "output_type": "execute_result"
    }
   ],
   "source": [
    "#accessing the third song\n",
    "data['tracks'][2]['title']\n"
   ]
  },
  {
   "cell_type": "code",
   "execution_count": 45,
   "id": "1d4f2862",
   "metadata": {},
   "outputs": [
    {
     "data": {
      "text/plain": [
       "[{'title': 'Stan',\n",
       "  'artist': 'Eminem',\n",
       "  'album': 'The Marshall Mathers LP',\n",
       "  'duration_sec': 405},\n",
       " {'title': 'In Da Club',\n",
       "  'artist': '50 Cent',\n",
       "  'album': 'Get Rich or Die Tryin',\n",
       "  'duration_sec': 240},\n",
       " {'title': 'Suzanna',\n",
       "  'artist': 'Sauti Sol',\n",
       "  'album': 'Midnight Train',\n",
       "  'duration_sec': 239},\n",
       " {'title': 'Many Men',\n",
       "  'artist': '50 Cent',\n",
       "  'album': 'Get Rich or Die Tryin',\n",
       "  'duration_sec': 256},\n",
       " {'title': 'Bad Liar',\n",
       "  'artist': 'Imagine Dragons',\n",
       "  'album': 'Origins',\n",
       "  'duration_sec': 243}]"
      ]
     },
     "execution_count": 45,
     "metadata": {},
     "output_type": "execute_result"
    }
   ],
   "source": [
    "data['tracks']"
   ]
  },
  {
   "cell_type": "code",
   "execution_count": null,
   "id": "2a5f35aa",
   "metadata": {},
   "outputs": [
    {
     "data": {
      "text/plain": [
       "'Origins'"
      ]
     },
     "execution_count": 49,
     "metadata": {},
     "output_type": "execute_result"
    }
   ],
   "source": [
    "data['tracks'][-1]['album']"
   ]
  },
  {
   "cell_type": "code",
   "execution_count": 111,
   "id": "c27ee27e",
   "metadata": {},
   "outputs": [
    {
     "data": {
      "text/plain": [
       "['title', 'artist', 'album', 'duration_sec']"
      ]
     },
     "execution_count": 111,
     "metadata": {},
     "output_type": "execute_result"
    }
   ],
   "source": [
    "list(data['tracks'][0].keys())"
   ]
  },
  {
   "cell_type": "markdown",
   "id": "51c9ceeb",
   "metadata": {},
   "source": [
    "## Transforming JSON Schema\n",
    "Here we want to transform JSON into a flatter structure, which we can use for analysis"
   ]
  },
  {
   "cell_type": "code",
   "execution_count": 53,
   "id": "c6919ace",
   "metadata": {},
   "outputs": [
    {
     "data": {
      "text/plain": [
       "[{'title': 'Stan',\n",
       "  'artist': 'Eminem',\n",
       "  'album': 'The Marshall Mathers LP',\n",
       "  'duration_sec': 405},\n",
       " {'title': 'In Da Club',\n",
       "  'artist': '50 Cent',\n",
       "  'album': 'Get Rich or Die Tryin',\n",
       "  'duration_sec': 240},\n",
       " {'title': 'Suzanna',\n",
       "  'artist': 'Sauti Sol',\n",
       "  'album': 'Midnight Train',\n",
       "  'duration_sec': 239},\n",
       " {'title': 'Many Men',\n",
       "  'artist': '50 Cent',\n",
       "  'album': 'Get Rich or Die Tryin',\n",
       "  'duration_sec': 256},\n",
       " {'title': 'Bad Liar',\n",
       "  'artist': 'Imagine Dragons',\n",
       "  'album': 'Origins',\n",
       "  'duration_sec': 243}]"
      ]
     },
     "execution_count": 53,
     "metadata": {},
     "output_type": "execute_result"
    }
   ],
   "source": [
    "\"\"\"\n",
    "Load the JSON File,\n",
    "iterave over the tracks and create a new list from the data points\n",
    "'artist':['Eminem','50 Cent','Sauti Sol','50 Cent','Imagine Dragonn']\n",
    "\"\"\"\n",
    "tracks = data['tracks']\n",
    "\n",
    "tracks"
   ]
  },
  {
   "cell_type": "code",
   "execution_count": 67,
   "id": "fa3905c1",
   "metadata": {},
   "outputs": [
    {
     "data": {
      "text/html": [
       "<div>\n",
       "<style scoped>\n",
       "    .dataframe tbody tr th:only-of-type {\n",
       "        vertical-align: middle;\n",
       "    }\n",
       "\n",
       "    .dataframe tbody tr th {\n",
       "        vertical-align: top;\n",
       "    }\n",
       "\n",
       "    .dataframe thead th {\n",
       "        text-align: right;\n",
       "    }\n",
       "</style>\n",
       "<table border=\"1\" class=\"dataframe\">\n",
       "  <thead>\n",
       "    <tr style=\"text-align: right;\">\n",
       "      <th></th>\n",
       "      <th>title</th>\n",
       "      <th>artist</th>\n",
       "      <th>album</th>\n",
       "      <th>duration_sec</th>\n",
       "    </tr>\n",
       "  </thead>\n",
       "  <tbody>\n",
       "    <tr>\n",
       "      <th>0</th>\n",
       "      <td>Stan</td>\n",
       "      <td>Eminem</td>\n",
       "      <td>The Marshall Mathers LP</td>\n",
       "      <td>405</td>\n",
       "    </tr>\n",
       "    <tr>\n",
       "      <th>1</th>\n",
       "      <td>In Da Club</td>\n",
       "      <td>50 Cent</td>\n",
       "      <td>Get Rich or Die Tryin</td>\n",
       "      <td>240</td>\n",
       "    </tr>\n",
       "    <tr>\n",
       "      <th>2</th>\n",
       "      <td>Suzanna</td>\n",
       "      <td>Sauti Sol</td>\n",
       "      <td>Midnight Train</td>\n",
       "      <td>239</td>\n",
       "    </tr>\n",
       "    <tr>\n",
       "      <th>3</th>\n",
       "      <td>Many Men</td>\n",
       "      <td>50 Cent</td>\n",
       "      <td>Get Rich or Die Tryin</td>\n",
       "      <td>256</td>\n",
       "    </tr>\n",
       "    <tr>\n",
       "      <th>4</th>\n",
       "      <td>Bad Liar</td>\n",
       "      <td>Imagine Dragons</td>\n",
       "      <td>Origins</td>\n",
       "      <td>243</td>\n",
       "    </tr>\n",
       "  </tbody>\n",
       "</table>\n",
       "</div>"
      ],
      "text/plain": [
       "        title           artist                    album  duration_sec\n",
       "0        Stan           Eminem  The Marshall Mathers LP           405\n",
       "1  In Da Club          50 Cent    Get Rich or Die Tryin           240\n",
       "2     Suzanna        Sauti Sol           Midnight Train           239\n",
       "3    Many Men          50 Cent    Get Rich or Die Tryin           256\n",
       "4    Bad Liar  Imagine Dragons                  Origins           243"
      ]
     },
     "execution_count": 67,
     "metadata": {},
     "output_type": "execute_result"
    }
   ],
   "source": [
    "import pandas as pd\n",
    "#using pandas to make it a csv\n",
    "with open('playlist.json','r') as f:\n",
    "    playlist = json.load(f)\n",
    "df = pd.DataFrame(playlist['tracks'])\n",
    "df.head()\n",
    "#df.to_csv('tracks.csv',index=False)"
   ]
  },
  {
   "cell_type": "code",
   "execution_count": 76,
   "id": "420eb6ad",
   "metadata": {},
   "outputs": [
    {
     "data": {
      "text/html": [
       "<div>\n",
       "<style scoped>\n",
       "    .dataframe tbody tr th:only-of-type {\n",
       "        vertical-align: middle;\n",
       "    }\n",
       "\n",
       "    .dataframe tbody tr th {\n",
       "        vertical-align: top;\n",
       "    }\n",
       "\n",
       "    .dataframe thead th {\n",
       "        text-align: right;\n",
       "    }\n",
       "</style>\n",
       "<table border=\"1\" class=\"dataframe\">\n",
       "  <thead>\n",
       "    <tr style=\"text-align: right;\">\n",
       "      <th></th>\n",
       "      <th>duration_sec</th>\n",
       "    </tr>\n",
       "  </thead>\n",
       "  <tbody>\n",
       "    <tr>\n",
       "      <th>count</th>\n",
       "      <td>5.000000</td>\n",
       "    </tr>\n",
       "    <tr>\n",
       "      <th>mean</th>\n",
       "      <td>276.600000</td>\n",
       "    </tr>\n",
       "    <tr>\n",
       "      <th>std</th>\n",
       "      <td>72.099237</td>\n",
       "    </tr>\n",
       "    <tr>\n",
       "      <th>min</th>\n",
       "      <td>239.000000</td>\n",
       "    </tr>\n",
       "    <tr>\n",
       "      <th>25%</th>\n",
       "      <td>240.000000</td>\n",
       "    </tr>\n",
       "    <tr>\n",
       "      <th>50%</th>\n",
       "      <td>243.000000</td>\n",
       "    </tr>\n",
       "    <tr>\n",
       "      <th>75%</th>\n",
       "      <td>256.000000</td>\n",
       "    </tr>\n",
       "    <tr>\n",
       "      <th>max</th>\n",
       "      <td>405.000000</td>\n",
       "    </tr>\n",
       "  </tbody>\n",
       "</table>\n",
       "</div>"
      ],
      "text/plain": [
       "       duration_sec\n",
       "count      5.000000\n",
       "mean     276.600000\n",
       "std       72.099237\n",
       "min      239.000000\n",
       "25%      240.000000\n",
       "50%      243.000000\n",
       "75%      256.000000\n",
       "max      405.000000"
      ]
     },
     "execution_count": 76,
     "metadata": {},
     "output_type": "execute_result"
    }
   ],
   "source": [
    "df.describe()"
   ]
  },
  {
   "cell_type": "code",
   "execution_count": 114,
   "id": "9d8df610",
   "metadata": {},
   "outputs": [
    {
     "data": {
      "text/html": [
       "<div>\n",
       "<style scoped>\n",
       "    .dataframe tbody tr th:only-of-type {\n",
       "        vertical-align: middle;\n",
       "    }\n",
       "\n",
       "    .dataframe tbody tr th {\n",
       "        vertical-align: top;\n",
       "    }\n",
       "\n",
       "    .dataframe thead th {\n",
       "        text-align: right;\n",
       "    }\n",
       "</style>\n",
       "<table border=\"1\" class=\"dataframe\">\n",
       "  <thead>\n",
       "    <tr style=\"text-align: right;\">\n",
       "      <th></th>\n",
       "      <th>TITLE</th>\n",
       "      <th>ARTIST</th>\n",
       "      <th>LENGTH IN MIN</th>\n",
       "    </tr>\n",
       "  </thead>\n",
       "  <tbody>\n",
       "    <tr>\n",
       "      <th>0</th>\n",
       "      <td>Stan</td>\n",
       "      <td>Eminem</td>\n",
       "      <td>6.75</td>\n",
       "    </tr>\n",
       "    <tr>\n",
       "      <th>1</th>\n",
       "      <td>In Da Club</td>\n",
       "      <td>50 Cent</td>\n",
       "      <td>4.00</td>\n",
       "    </tr>\n",
       "    <tr>\n",
       "      <th>2</th>\n",
       "      <td>Suzanna</td>\n",
       "      <td>Sauti Sol</td>\n",
       "      <td>3.98</td>\n",
       "    </tr>\n",
       "    <tr>\n",
       "      <th>3</th>\n",
       "      <td>Many Men</td>\n",
       "      <td>50 Cent</td>\n",
       "      <td>4.27</td>\n",
       "    </tr>\n",
       "    <tr>\n",
       "      <th>4</th>\n",
       "      <td>Bad Liar</td>\n",
       "      <td>Imagine Dragons</td>\n",
       "      <td>4.05</td>\n",
       "    </tr>\n",
       "  </tbody>\n",
       "</table>\n",
       "</div>"
      ],
      "text/plain": [
       "        TITLE           ARTIST  LENGTH IN MIN\n",
       "0        Stan           Eminem           6.75\n",
       "1  In Da Club          50 Cent           4.00\n",
       "2     Suzanna        Sauti Sol           3.98\n",
       "3    Many Men          50 Cent           4.27\n",
       "4    Bad Liar  Imagine Dragons           4.05"
      ]
     },
     "execution_count": 114,
     "metadata": {},
     "output_type": "execute_result"
    }
   ],
   "source": [
    "flattened_tracks = []\n",
    "\n",
    "for track in tracks:\n",
    "    flattened_tracks.append(\n",
    "        {\n",
    "        'TITLE':track['title'],\n",
    "        'ARTIST':track['artist'],\n",
    "        #'ALBUM':track['album'],\n",
    "        #'LENGTH OF SONG':track['duration_sec'],\n",
    "        'LENGTH IN MIN':round(track['duration_sec']/60,2)\n",
    "        }\n",
    "        )\n",
    "    \n",
    "df2 = pd.DataFrame(flattened_tracks)\n",
    "df2.head()"
   ]
  },
  {
   "cell_type": "code",
   "execution_count": 84,
   "id": "33278b4a",
   "metadata": {},
   "outputs": [
    {
     "data": {
      "text/plain": [
       "[{'TITLE': 'Stan', 'ARTIST': 'Eminem', 'LENGTH IN MIN': 6.75},\n",
       " {'TITLE': 'In Da Club', 'ARTIST': '50 Cent', 'LENGTH IN MIN': 4.0},\n",
       " {'TITLE': 'Suzanna', 'ARTIST': 'Sauti Sol', 'LENGTH IN MIN': 3.98},\n",
       " {'TITLE': 'Many Men', 'ARTIST': '50 Cent', 'LENGTH IN MIN': 4.27},\n",
       " {'TITLE': 'Bad Liar', 'ARTIST': 'Imagine Dragons', 'LENGTH IN MIN': 4.05}]"
      ]
     },
     "execution_count": 84,
     "metadata": {},
     "output_type": "execute_result"
    }
   ],
   "source": [
    "flattened_tracks"
   ]
  },
  {
   "cell_type": "code",
   "execution_count": 115,
   "id": "6cae2927",
   "metadata": {},
   "outputs": [
    {
     "data": {
      "text/html": [
       "<div>\n",
       "<style scoped>\n",
       "    .dataframe tbody tr th:only-of-type {\n",
       "        vertical-align: middle;\n",
       "    }\n",
       "\n",
       "    .dataframe tbody tr th {\n",
       "        vertical-align: top;\n",
       "    }\n",
       "\n",
       "    .dataframe thead th {\n",
       "        text-align: right;\n",
       "    }\n",
       "</style>\n",
       "<table border=\"1\" class=\"dataframe\">\n",
       "  <thead>\n",
       "    <tr style=\"text-align: right;\">\n",
       "      <th></th>\n",
       "      <th>TITLE</th>\n",
       "      <th>ARTIST</th>\n",
       "      <th>LENGTH IN MIN</th>\n",
       "    </tr>\n",
       "  </thead>\n",
       "  <tbody>\n",
       "    <tr>\n",
       "      <th>0</th>\n",
       "      <td>Stan</td>\n",
       "      <td>Eminem</td>\n",
       "      <td>6.75</td>\n",
       "    </tr>\n",
       "    <tr>\n",
       "      <th>1</th>\n",
       "      <td>In Da Club</td>\n",
       "      <td>50 Cent</td>\n",
       "      <td>4.00</td>\n",
       "    </tr>\n",
       "    <tr>\n",
       "      <th>2</th>\n",
       "      <td>Suzanna</td>\n",
       "      <td>Sauti Sol</td>\n",
       "      <td>3.98</td>\n",
       "    </tr>\n",
       "    <tr>\n",
       "      <th>3</th>\n",
       "      <td>Many Men</td>\n",
       "      <td>50 Cent</td>\n",
       "      <td>4.27</td>\n",
       "    </tr>\n",
       "    <tr>\n",
       "      <th>4</th>\n",
       "      <td>Bad Liar</td>\n",
       "      <td>Imagine Dragons</td>\n",
       "      <td>4.05</td>\n",
       "    </tr>\n",
       "  </tbody>\n",
       "</table>\n",
       "</div>"
      ],
      "text/plain": [
       "        TITLE           ARTIST  LENGTH IN MIN\n",
       "0        Stan           Eminem           6.75\n",
       "1  In Da Club          50 Cent           4.00\n",
       "2     Suzanna        Sauti Sol           3.98\n",
       "3    Many Men          50 Cent           4.27\n",
       "4    Bad Liar  Imagine Dragons           4.05"
      ]
     },
     "execution_count": 115,
     "metadata": {},
     "output_type": "execute_result"
    }
   ],
   "source": [
    "import pandas as pd\n",
    "\n",
    "pd.DataFrame(flattened_tracks).head()"
   ]
  },
  {
   "cell_type": "code",
   "execution_count": null,
   "id": "99f60d28",
   "metadata": {},
   "outputs": [
    {
     "data": {
      "text/html": [
       "<div>\n",
       "<style scoped>\n",
       "    .dataframe tbody tr th:only-of-type {\n",
       "        vertical-align: middle;\n",
       "    }\n",
       "\n",
       "    .dataframe tbody tr th {\n",
       "        vertical-align: top;\n",
       "    }\n",
       "\n",
       "    .dataframe thead th {\n",
       "        text-align: right;\n",
       "    }\n",
       "</style>\n",
       "<table border=\"1\" class=\"dataframe\">\n",
       "  <thead>\n",
       "    <tr style=\"text-align: right;\">\n",
       "      <th></th>\n",
       "      <th>playlist_name</th>\n",
       "      <th>created_by</th>\n",
       "      <th>tracks</th>\n",
       "    </tr>\n",
       "  </thead>\n",
       "  <tbody>\n",
       "    <tr>\n",
       "      <th>0</th>\n",
       "      <td>My_Jams</td>\n",
       "      <td>Chacha</td>\n",
       "      <td>{'title': 'Stan', 'artist': 'Eminem', 'album':...</td>\n",
       "    </tr>\n",
       "    <tr>\n",
       "      <th>1</th>\n",
       "      <td>My_Jams</td>\n",
       "      <td>Chacha</td>\n",
       "      <td>{'title': 'In Da Club', 'artist': '50 Cent', '...</td>\n",
       "    </tr>\n",
       "    <tr>\n",
       "      <th>2</th>\n",
       "      <td>My_Jams</td>\n",
       "      <td>Chacha</td>\n",
       "      <td>{'title': 'Suzanna', 'artist': 'Sauti Sol', 'a...</td>\n",
       "    </tr>\n",
       "    <tr>\n",
       "      <th>3</th>\n",
       "      <td>My_Jams</td>\n",
       "      <td>Chacha</td>\n",
       "      <td>{'title': 'Many Men', 'artist': '50 Cent', 'al...</td>\n",
       "    </tr>\n",
       "    <tr>\n",
       "      <th>4</th>\n",
       "      <td>My_Jams</td>\n",
       "      <td>Chacha</td>\n",
       "      <td>{'title': 'Bad Liar', 'artist': 'Imagine Drago...</td>\n",
       "    </tr>\n",
       "  </tbody>\n",
       "</table>\n",
       "</div>"
      ],
      "text/plain": [
       "  playlist_name created_by                                             tracks\n",
       "0       My_Jams     Chacha  {'title': 'Stan', 'artist': 'Eminem', 'album':...\n",
       "1       My_Jams     Chacha  {'title': 'In Da Club', 'artist': '50 Cent', '...\n",
       "2       My_Jams     Chacha  {'title': 'Suzanna', 'artist': 'Sauti Sol', 'a...\n",
       "3       My_Jams     Chacha  {'title': 'Many Men', 'artist': '50 Cent', 'al...\n",
       "4       My_Jams     Chacha  {'title': 'Bad Liar', 'artist': 'Imagine Drago..."
      ]
     },
     "execution_count": 116,
     "metadata": {},
     "output_type": "execute_result"
    }
   ],
   "source": [
    "#not liable\n",
    "pd.read_json('playlist.json').head()"
   ]
  },
  {
   "cell_type": "code",
   "execution_count": 120,
   "id": "206dcabf",
   "metadata": {},
   "outputs": [],
   "source": [
    "#libraries\n",
    "import json\n",
    "import csv\n",
    "\n",
    "#loading the json file\n",
    "with open('playlist.json','r') as f:\n",
    "    data = json.load(f)\n",
    "\n",
    "#creating a csv file\n",
    "\n",
    "with open('playlist.csv','w', newline=\"\") as f:\n",
    "    writer = csv.DictWriter(f,fieldnames = ['title','artist','album','duration_sec']) \n",
    "    writer.writeheader()\n",
    "    writer.writerows(data['tracks'])   "
   ]
  },
  {
   "cell_type": "code",
   "execution_count": null,
   "id": "d39bf93e",
   "metadata": {},
   "outputs": [],
   "source": []
  }
 ],
 "metadata": {
  "kernelspec": {
   "display_name": "learn-env",
   "language": "python",
   "name": "python3"
  },
  "language_info": {
   "codemirror_mode": {
    "name": "ipython",
    "version": 3
   },
   "file_extension": ".py",
   "mimetype": "text/x-python",
   "name": "python",
   "nbconvert_exporter": "python",
   "pygments_lexer": "ipython3",
   "version": "3.8.5"
  }
 },
 "nbformat": 4,
 "nbformat_minor": 5
}
