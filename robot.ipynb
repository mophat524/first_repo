{
 "cells": [
  {
   "cell_type": "markdown",
   "id": "1a113e8d",
   "metadata": {},
   "source": [
    "### Git\n",
    "hello = \"hello\""
   ]
  },
  {
   "cell_type": "code",
   "execution_count": null,
   "id": "7e44a527",
   "metadata": {},
   "outputs": [
    {
     "data": {
      "text/plain": [
       "'hello'"
      ]
     },
     "execution_count": 3,
     "metadata": {},
     "output_type": "execute_result"
    }
   ],
   "source": [
    "\"\"\"\n",
    "Our main agenda is to upload/push to Github\n",
    "\n",
    "Steps before pushing\n",
    "- git is initialised\n",
    "     git init\n",
    "-Stage our changes\n",
    "   git add <argument>\n",
    "   eg git add robot.ipynb\n",
    "\n",
    "   #track all the file\n",
    "   git add . \n",
    "   \n",
    "\"\"\""
   ]
  }
 ],
 "metadata": {
  "kernelspec": {
   "display_name": "Python 3",
   "language": "python",
   "name": "python3"
  },
  "language_info": {
   "codemirror_mode": {
    "name": "ipython",
    "version": 3
   },
   "file_extension": ".py",
   "mimetype": "text/x-python",
   "name": "python",
   "nbconvert_exporter": "python",
   "pygments_lexer": "ipython3",
   "version": "3.11.4"
  }
 },
 "nbformat": 4,
 "nbformat_minor": 5
}
