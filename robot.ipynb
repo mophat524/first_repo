{
 "cells": [
  {
   "cell_type": "markdown",
   "id": "1a113e8d",
   "metadata": {},
   "source": [
    "### Git\n",
    "hello = \"hello\""
   ]
  },
  {
   "cell_type": "code",
   "execution_count": 3,
   "id": "7e44a527",
   "metadata": {},
   "outputs": [
    {
     "data": {
      "text/plain": [
       "'hello'"
      ]
     },
     "execution_count": 3,
     "metadata": {},
     "output_type": "execute_result"
    }
   ],
   "source": [
    "\"\"\"\n",
    "Our main agenda is to upload/push to Github\n",
    "\n",
    "Steps before pushing\n",
    "- git is initialised\n",
    "     git init\n",
    "-Stage our changes\n",
    "   git add <argument>\n",
    "   eg git add robot.ipynb\n",
    "\n",
    "   #track all the file\n",
    "   git add . \n",
    "\n",
    "-Taking the snashot with a label\n",
    "   git commit -m 'First Commit'\n",
    "\n",
    "-Uploading to GitHub\n",
    "   internet must be present\n",
    "    git push origin  <name of your branch>\n",
    "\n",
    "\n",
    "git add remote origin <url>\n",
    "\n",
    " \n",
    "\n",
    "\"\"\""
   ]
  },
  {
   "cell_type": "markdown",
   "id": "20b181bc",
   "metadata": {},
   "source": [
    "### Python File I/O\n",
    "Python's built in ways to opening/loading files. (Input and Output).\n",
    "\n",
    "**open()** is the dedicated function in python to load files\n",
    "\n",
    "...\n",
    "Syntax:\n",
    "\n",
    "open(filename, mode)\n",
    "```\n",
    "\n",
    "**Mode**\n",
    "* `r` ---> read only\n",
    "* 'W' ---> write only(If file exissts its overwritten else if not )\n",
    "* 'r+' ---> read and write\n",
    "* 'a' ----> append only(going to write new data at the end of the file without erasing existing)"
   ]
  },
  {
   "cell_type": "code",
   "execution_count": 2,
   "id": "98171190",
   "metadata": {},
   "outputs": [
    {
     "data": {
      "text/html": [
       "<div>\n",
       "<style scoped>\n",
       "    .dataframe tbody tr th:only-of-type {\n",
       "        vertical-align: middle;\n",
       "    }\n",
       "\n",
       "    .dataframe tbody tr th {\n",
       "        vertical-align: top;\n",
       "    }\n",
       "\n",
       "    .dataframe thead th {\n",
       "        text-align: right;\n",
       "    }\n",
       "</style>\n",
       "<table border=\"1\" class=\"dataframe\">\n",
       "  <thead>\n",
       "    <tr style=\"text-align: right;\">\n",
       "      <th></th>\n",
       "      <th>A</th>\n",
       "      <th>B</th>\n",
       "      <th>C</th>\n",
       "      <th>D</th>\n",
       "      <th>E</th>\n",
       "    </tr>\n",
       "  </thead>\n",
       "  <tbody>\n",
       "    <tr>\n",
       "      <th>0</th>\n",
       "      <td>1</td>\n",
       "      <td>2</td>\n",
       "      <td>3</td>\n",
       "      <td>4</td>\n",
       "      <td>5</td>\n",
       "    </tr>\n",
       "    <tr>\n",
       "      <th>1</th>\n",
       "      <td>1</td>\n",
       "      <td>2</td>\n",
       "      <td>3</td>\n",
       "      <td>4</td>\n",
       "      <td>5</td>\n",
       "    </tr>\n",
       "    <tr>\n",
       "      <th>2</th>\n",
       "      <td>1</td>\n",
       "      <td>2</td>\n",
       "      <td>3</td>\n",
       "      <td>4</td>\n",
       "      <td>5</td>\n",
       "    </tr>\n",
       "  </tbody>\n",
       "</table>\n",
       "</div>"
      ],
      "text/plain": [
       "   A  B  C  D  E\n",
       "0  1  2  3  4  5\n",
       "1  1  2  3  4  5\n",
       "2  1  2  3  4  5"
      ]
     },
     "execution_count": 2,
     "metadata": {},
     "output_type": "execute_result"
    }
   ],
   "source": [
    "#this is how we usually open our csv\n",
    "import pandas as pd\n",
    "\n",
    "pd.read_csv('./sample.csv').head()\n",
    "\n"
   ]
  },
  {
   "cell_type": "code",
   "execution_count": 1,
   "id": "b3ec3f3a",
   "metadata": {},
   "outputs": [
    {
     "data": {
      "text/html": [
       "<div>\n",
       "<style scoped>\n",
       "    .dataframe tbody tr th:only-of-type {\n",
       "        vertical-align: middle;\n",
       "    }\n",
       "\n",
       "    .dataframe tbody tr th {\n",
       "        vertical-align: top;\n",
       "    }\n",
       "\n",
       "    .dataframe thead th {\n",
       "        text-align: right;\n",
       "    }\n",
       "</style>\n",
       "<table border=\"1\" class=\"dataframe\">\n",
       "  <thead>\n",
       "    <tr style=\"text-align: right;\">\n",
       "      <th></th>\n",
       "      <th>A</th>\n",
       "      <th>B</th>\n",
       "      <th>C</th>\n",
       "      <th>D</th>\n",
       "      <th>E</th>\n",
       "    </tr>\n",
       "  </thead>\n",
       "  <tbody>\n",
       "    <tr>\n",
       "      <th>0</th>\n",
       "      <td>1</td>\n",
       "      <td>2</td>\n",
       "      <td>3</td>\n",
       "      <td>4</td>\n",
       "      <td>5</td>\n",
       "    </tr>\n",
       "    <tr>\n",
       "      <th>1</th>\n",
       "      <td>1</td>\n",
       "      <td>2</td>\n",
       "      <td>3</td>\n",
       "      <td>4</td>\n",
       "      <td>5</td>\n",
       "    </tr>\n",
       "    <tr>\n",
       "      <th>2</th>\n",
       "      <td>1</td>\n",
       "      <td>2</td>\n",
       "      <td>3</td>\n",
       "      <td>4</td>\n",
       "      <td>5</td>\n",
       "    </tr>\n",
       "  </tbody>\n",
       "</table>\n",
       "</div>"
      ],
      "text/plain": [
       "   A  B  C  D  E\n",
       "0  1  2  3  4  5\n",
       "1  1  2  3  4  5\n",
       "2  1  2  3  4  5"
      ]
     },
     "execution_count": 1,
     "metadata": {},
     "output_type": "execute_result"
    }
   ],
   "source": [
    "import pandas as pd\n",
    "\n",
    "pd.read_csv('./sample.csv').head()"
   ]
  },
  {
   "cell_type": "markdown",
   "id": "e84c2c40",
   "metadata": {},
   "source": [
    "## 'with'\n",
    "\n",
    "This automatically opens and closes the file when using the open() function."
   ]
  },
  {
   "cell_type": "code",
   "execution_count": 3,
   "id": "faf4ef9c",
   "metadata": {},
   "outputs": [
    {
     "name": "stdout",
     "output_type": "stream",
     "text": [
      "A,B,C,D,E\n",
      "1,2,3,4,5\n",
      "1,2,3,4,5\n",
      "1,2,3,4,5\n"
     ]
    }
   ],
   "source": [
    "with open ('sample.csv','r') as f:\n",
    "     print(f.read())"
   ]
  },
  {
   "cell_type": "code",
   "execution_count": 10,
   "id": "8a3ded11",
   "metadata": {},
   "outputs": [
    {
     "name": "stdout",
     "output_type": "stream",
     "text": [
      "100 266\n",
      "122 256\n",
      "131 234\n"
     ]
    }
   ],
   "source": [
    "import csv\n",
    "\n",
    "with open ('sample.csv') as f:\n",
    "    reader = csv.DictReader(f)\n",
    "    #\n",
    "    for row in reader:\n",
    "        print(row['Amsterdam'],row['Berlin'])"
   ]
  },
  {
   "cell_type": "markdown",
   "id": "5c4b1b36",
   "metadata": {},
   "source": [
    "Create a new file and write to it"
   ]
  },
  {
   "cell_type": "code",
   "execution_count": 16,
   "id": "5046c24a",
   "metadata": {},
   "outputs": [],
   "source": [
    "with open('cities.txt','w') as f:\n",
    "    f.write('Dallas| Berlin |Copenhagen')"
   ]
  },
  {
   "cell_type": "code",
   "execution_count": 15,
   "id": "cda1a9df",
   "metadata": {},
   "outputs": [],
   "source": [
    "with open('cities.txt','w') as f:\n",
    "    f.write('Dallas| London |Cairo')"
   ]
  }
 ],
 "metadata": {
  "kernelspec": {
   "display_name": "learn-env",
   "language": "python",
   "name": "python3"
  },
  "language_info": {
   "codemirror_mode": {
    "name": "ipython",
    "version": 3
   },
   "file_extension": ".py",
   "mimetype": "text/x-python",
   "name": "python",
   "nbconvert_exporter": "python",
   "pygments_lexer": "ipython3",
   "version": "3.8.5"
  }
 },
 "nbformat": 4,
 "nbformat_minor": 5
}
